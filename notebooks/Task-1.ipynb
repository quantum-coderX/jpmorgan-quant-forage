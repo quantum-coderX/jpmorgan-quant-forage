{
 "cells": [
  {
   "cell_type": "markdown",
   "id": "95abc7df",
   "metadata": {},
   "source": [
    "# Here is your task\n",
    "After asking around for the source of the existing data, you learn that the current process is to take a monthly snapshot of prices from a market data provider, which represents the market price of natural gas delivered at the end of each calendar month. This data is available for roughly the next 18 months and is combined with historical prices in a time series database. After gaining access, you are able to download the data in a CSV file.\n",
    "\n",
    "You should use this monthly snapshot to produce a varying picture of the existing price data, as well as an extrapolation for an extra year, in case the client needs an indicative price for a longer-term storage contract.\n",
    "\n",
    "Download the monthly natural gas price data.\n",
    "Each point in the data set corresponds to the purchase price of natural gas at the end of a month, from 31st October 2020 to 30th September 2024.\n",
    "Analyze the data to estimate the purchase price of gas at any date in the past and extrapolate it for one year into the future. \n",
    "Your code should take a date as input and return a price estimate."
   ]
  }
 ],
 "metadata": {
  "language_info": {
   "name": "python"
  }
 },
 "nbformat": 4,
 "nbformat_minor": 5
}
